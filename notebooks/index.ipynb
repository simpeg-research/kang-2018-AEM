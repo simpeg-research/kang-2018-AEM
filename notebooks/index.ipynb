{
 "cells": [
  {
   "cell_type": "markdown",
   "metadata": {},
   "source": [
    "**| [Overview](#overview) | [Launching the notebooks](#launching-the-notebooks) | [Running the notebooks](#running-the-notebooks) | [Citation](#citation) | [Issues](#issues) | [License](#license) |**\n",
    "\n",
    "# Detecting induced polarization effects in time-domain data: a modeling study using stretched exponentials"
   ]
  },
  {
   "cell_type": "markdown",
   "metadata": {},
   "source": [
    "## Without IP effects (pure EM effects)\n",
    "- Top: Electric fields (azimuthal component; into the page is positive and vice versa)\n",
    "- Bottom: db/dt fields (vector)"
   ]
  },
  {
   "cell_type": "code",
   "execution_count": 5,
   "metadata": {},
   "outputs": [
    {
     "data": {
      "text/html": [
       "\n",
       "    <video alt=\"test\" controls>\n",
       "        <source src=\"em.mp4\" type=\"video/mp4\">\n",
       "    </video>\n"
      ],
      "text/plain": [
       "<IPython.core.display.HTML object>"
      ]
     },
     "execution_count": 5,
     "metadata": {},
     "output_type": "execute_result"
    }
   ],
   "source": [
    "from IPython.display import HTML\n",
    "HTML(\"\"\"\n",
    "    <video alt=\"test\" controls>\n",
    "        <source src=\"em.mp4\" type=\"video/mp4\">\n",
    "    </video>\n",
    "\"\"\")"
   ]
  },
  {
   "cell_type": "markdown",
   "metadata": {},
   "source": [
    "## With IP effects"
   ]
  },
  {
   "cell_type": "markdown",
   "metadata": {},
   "source": [
    "- Top: Electric fields (azimuthal component; into the page is positive and vice versa)\n",
    "- Bottom: db/dt fields (vector)\n",
    "\n",
    "**You will see reversed direction of the electric field at late times due to the IP effects**"
   ]
  },
  {
   "cell_type": "code",
   "execution_count": 6,
   "metadata": {},
   "outputs": [
    {
     "data": {
      "text/html": [
       "\n",
       "    <video alt=\"test\" controls>\n",
       "        <source src=\"emip.mp4\" type=\"video/mp4\">\n",
       "    </video>\n"
      ],
      "text/plain": [
       "<IPython.core.display.HTML object>"
      ]
     },
     "execution_count": 6,
     "metadata": {},
     "output_type": "execute_result"
    }
   ],
   "source": [
    "HTML(\"\"\"\n",
    "    <video alt=\"test\" controls>\n",
    "        <source src=\"emip.mp4\" type=\"video/mp4\">\n",
    "    </video>\n",
    "\"\"\")"
   ]
  },
  {
   "cell_type": "markdown",
   "metadata": {},
   "source": [
    "\n",
    "## Overview\n",
    "This repository contains the notebooks used to generate the examples shown in \"Detecting induced polarization effects in time-domain data: a modeling study using stretched exponentials\" by [Seogi Kang](https://github.com/sgkang), [Lindsey J. Heagy](https://github.com/lheagy), [Douglas W. Oldenburg](https://github.com/dougoldenburg). \n",
    "\n",
    "The potential for extracting and interpreting induced polarization (IP) data from air- borne surveys is now broadly recognized. There is, however, still considerable discussion about the conditions under which the technique can provide knowledge about the subsurface and thus, its practical applications. For simulating time-domain EM data with IP effects, we will use stretched exponential (SE) function rather than conventional Cole-Cole model.\n",
    "\n",
    "This collection of notebooks will first illustrates physics of induced polarization (IP) effects in airborne time-domain electromagnetic data, and then investigate under what conditions airborne IP can detect chargeable bodies at depth. The list of the notebooks are:\n",
    "\n",
    "- [notebooks](notebooks): contains the notebooks used to generate figures in the paper and thesis\n",
    "    - [1-Fit-ColeCole-with-StrecthedExponential.ipynb](notebooks/1-Fit-ColeCole-with-StrecthedExponential.ipynb):\n",
    "        - Figure 1\n",
    "    - [2-Understand-Physics](notebooks/2-Understand-Physics.ipynb):\n",
    "        - Figure 2, 3, 4\n",
    "    - [3-Background-conductivity](notebooks/3-Background-conductivity.ipynb):\n",
    "        - Figures 5, 6\n",
    "    - [4-Depth-of-burial](notebooks/4-Depth-of-burial.ipynb):\n",
    "        - Figures 7, 8, 9, 10\n",
    "    - [5-Target-size](notebooks/5-Target-size.ipynb):\n",
    "        - Figures 11, 12\n",
    "    - [6-Polarization-character](notebooks/6-Polarization-character.ipynb):\n",
    "        - Figures 13, 14\n",
    "    - [A1-Convolution](notebooks/A1-Convolution.ipynb)\n",
    "        - Figure A1\n",
    "    - [A2-Accuracy-Test](notebooks/A2-Accuracy-Test.ipynb)\n",
    "        - Figure A2    \n",
    "    - [A3-Triple-Peak](notebooks/A3-Triple-Peak.ipynb)\n",
    "        - Additional notebook prompted in AEM workshop 2018; this shows four sign reversals!\n",
    "\n",
    "\n",
    "## Launching the notebooks\n",
    "\n",
    "### Online\n",
    "The notebooks can be run online through [mybinder](https://mybinder.org/v2/gh/simpeg-research/kang-2018-AEM/master?filepath=notebooks%2Findex.ipynb)\n",
    "\n",
    "### Locally\n",
    "To run them locally, you will need to have python installed, preferably through [anaconda](https://www.anaconda.com/download/).\n",
    "\n",
    "You can then clone this repository. From a command line, run\n",
    "\n",
    "```\n",
    "git clone https://github.com/simpeg-research/kang-2018-AEM.git\n",
    "```\n",
    "\n",
    "Then `cd` into the `kang-2018-AEM`\n",
    "\n",
    "```\n",
    "cd kang-2018-AEM\n",
    "```\n",
    "\n",
    "To setup your software environment, we recommend you use the provided conda environment\n",
    "\n",
    "```\n",
    "conda env create -f environment.yml\n",
    "source activate aemip-environment\n",
    "```\n",
    "\n",
    "alternatively, you can install dependencies through pypi\n",
    "```\n",
    "pip install -r requirements.txt\n",
    "```\n",
    "\n",
    "You can then launch Jupyter\n",
    "```\n",
    "jupyter notebook\n",
    "```\n",
    "\n",
    "Jupyter will then launch in your web-browser.\n",
    "\n",
    "## Running the notebooks\n",
    "\n",
    "Each cell of code can be run with `shift + enter` or you can run the entire notebook by selecting `cell`, `Run All` in the toolbar.\n",
    "\n",
    "<img src=\"figures/cell_run_all.png\" width=80% align=\"middle\">\n",
    "\n",
    "For more information on running Jupyter notebooks, see the [Jupyter Documentation](https://jupyter.readthedocs.io/en/latest/)\n",
    "\n",
    "## Citation\n",
    "\n",
    "Kang, S., & Oldenburg, D. W. (2019). Inversions of time-domain spectral induced polarization data using stretched exponential.\n",
    "\n",
    "```\n",
    "@article{kang2018,\n",
    "author = {Kang, Seogi, Heagy, Lindsey J, and Oldenburg, Douglas W},\n",
    "journal = {Exploration Geophysics},\n",
    "number = {},\n",
    "pages = {},\n",
    "title = {{Detecting induced polarization effects in time-domain data: a modeling study using stretched exponentials}},\n",
    "volume = {},\n",
    "year = {2019}\n",
    "}\n",
    "```\n",
    "\n",
    "## Issues\n",
    "\n",
    "If you run into problems or bugs, please let us know by [creating an issue](https://github.com/simpeg-research/kang-2018-AEM/issues/new) in this repository.\n",
    "\n",
    "## License\n",
    "\n",
    "These notebooks are licensed under the [MIT License](/LICENSE) which allows academic and commercial re-use and adaptation of this work.\n",
    "\n",
    "## Version\n",
    "\n",
    "Version: 0.0.2"
   ]
  },
  {
   "cell_type": "code",
   "execution_count": null,
   "metadata": {},
   "outputs": [],
   "source": []
  }
 ],
 "metadata": {
  "kernelspec": {
   "display_name": "Python 3",
   "language": "python",
   "name": "python3"
  },
  "language_info": {
   "codemirror_mode": {
    "name": "ipython",
    "version": 3
   },
   "file_extension": ".py",
   "mimetype": "text/x-python",
   "name": "python",
   "nbconvert_exporter": "python",
   "pygments_lexer": "ipython3",
   "version": "3.7.3"
  }
 },
 "nbformat": 4,
 "nbformat_minor": 2
}
