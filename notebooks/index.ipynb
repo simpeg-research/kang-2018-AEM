{
 "cells": [
  {
   "cell_type": "markdown",
   "metadata": {},
   "source": [
    "# Feasibility of induced polarization effects in time-domain airborne EM data\n",
    "\n",
    "The potential for extracting and interpreting induced polarization (IP) data from air- borne surveys is now broadly recognized. There is, however, still considerable discussion about the conditions under which the technique can provide knowledge about the subsurface and thus, its practical applications. For simulating time-domain EM data with IP effects, we will use stretched exponential (SE) function rather than conventional Cole-Cole model.\n",
    "\n",
    "This collection of notebooks will first illustrates (1) physics of induced polarization (IP) effects in airborne time-domain electromagnetic data, and then investigate under what conditions airborne IP can detect chargeable bodies at depth."
   ]
  },
  {
   "cell_type": "markdown",
   "metadata": {},
   "source": [
    "If you have feedback, we would like to hear from you! \n",
    "- <a href=\"https://github.com/simpeg-research/kang-2018-AEM/issues\">Report issues</a>\n",
    "- <a href=\"https://github.com/simpeg-research/kang-2018-AEM/\">Join the development</a>"
   ]
  },
  {
   "cell_type": "markdown",
   "metadata": {},
   "source": [
    "<iframe width=\"560\" height=\"315\" src=\"https://www.youtube.com/embed/Hkrplu6f8co\" frameborder=\"0\" allow=\"autoplay; encrypted-media\" allowfullscreen></iframe>"
   ]
  },
  {
   "cell_type": "markdown",
   "metadata": {},
   "source": [
    "## Contents\n",
    "\n",
    "- <a href=\"SE-ColeCole-fit.ipynb\">SE-ColeCole-fit.ipynb</a> - Fit Cole-Cole conductivity with SE conductivity\n",
    "- <a href=\"Physics.ipynb\">Physics.ipynb</a> - Show EM fields, and data with and without IP effects\n",
    "- <a href=\"Background-conductivity.ipynb\">Background-conductivity.ipynb</a> - Investigate background conductivity \n",
    "- <a href=\"Depth.ipynb\">Depth.ipynb</a> - Investigate the depth of chargeable target\n",
    "- <a href=\"Target-size.ipynb\">Target-size.ipynb</a> - Investigate the size of chargeable target\n",
    "- <a href=\"Polarization-character.ipynb\">Polarization-character.ipynb</a> - Investigate the polarization character of various rocks\n",
    "- <a href=\"Triple-peak.ipynb\">Triple-peak.ipynb</a> - Investigate the size of chargeable target"
   ]
  },
  {
   "cell_type": "markdown",
   "metadata": {},
   "source": [
    "<center><a rel=\"license\" href=\"http://creativecommons.org/licenses/by/4.0/\"><img alt=\"Creative Commons License\" style=\"border-width:0\" width=60 src=\"https://i.creativecommons.org/l/by/4.0/88x31.png\" /></a> \n",
    "\n",
    "This work is licensed under a <a rel=\"license\" href=\"http://creativecommons.org/licenses/by/4.0/\">Creative Commons Attribution 4.0 International License</a>.</center>"
   ]
  }
 ],
 "metadata": {
  "kernelspec": {
   "display_name": "Python 3",
   "language": "python",
   "name": "python3"
  },
  "language_info": {
   "codemirror_mode": {
    "name": "ipython",
    "version": 3
   },
   "file_extension": ".py",
   "mimetype": "text/x-python",
   "name": "python",
   "nbconvert_exporter": "python",
   "pygments_lexer": "ipython3",
   "version": "3.6.5"
  }
 },
 "nbformat": 4,
 "nbformat_minor": 2
}
