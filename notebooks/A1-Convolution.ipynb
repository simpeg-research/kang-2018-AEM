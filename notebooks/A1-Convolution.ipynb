{
 "cells": [
  {
   "cell_type": "markdown",
   "metadata": {},
   "source": [
    "# Conceptual diagram for convolution\n",
    "**Author**: [Seogi Kang](https://github.com/sgkang)\n",
    "\n",
    "This notebooks generates a diagram illustrating convolution between two time functions. \n",
    "This notebooks was used to produce Figures A1 in Kang et al. (2019). "
   ]
  },
  {
   "cell_type": "code",
   "execution_count": 3,
   "metadata": {},
   "outputs": [
    {
     "name": "stdout",
     "output_type": "stream",
     "text": [
      "Populating the interactive namespace from numpy and matplotlib\n"
     ]
    }
   ],
   "source": [
    "%pylab inline"
   ]
  },
  {
   "cell_type": "code",
   "execution_count": 4,
   "metadata": {},
   "outputs": [],
   "source": [
    "import matplotlib\n",
    "matplotlib.rcParams['font.size'] = 16"
   ]
  },
  {
   "cell_type": "code",
   "execution_count": 5,
   "metadata": {},
   "outputs": [],
   "source": [
    "figdir = './figures/'"
   ]
  },
  {
   "cell_type": "code",
   "execution_count": 6,
   "metadata": {},
   "outputs": [
    {
     "data": {
      "image/png": "[encoded data removed]",
      "text/plain": [
       "<Figure size 432x216 with 1 Axes>"
      ]
     },
     "metadata": {
      "needs_background": "light"
     },
     "output_type": "display_data"
    }
   ],
   "source": [
    "fig = plt.figure(figsize=(6, 3))\n",
    "t = np.linspace(0, 1)\n",
    "t_lag = np.arange(5)*0.2 + 0.1\n",
    "a = 3\n",
    "b = 2\n",
    "plt.plot(t, np.exp(-a*t), 'k')\n",
    "plt.plot(t, -(1.-np.exp(b*t))*0.15+0.1, 'r')\n",
    "plt.plot(np.r_[-0.1, 1.1], np.r_[0, 0], 'k', lw=2)\n",
    "plt.plot(np.r_[1.1], np.r_[0], 'k->', lw=2)\n",
    "i = 4\n",
    "for lag in t_lag:\n",
    "    plt.plot(np.ones(2)*lag, np.r_[0, np.exp(-a*lag)], 'k--', lw=1)\n",
    "    plt.plot(lag, np.exp(-a*lag), 'ko', ms=4)\n",
    "    plt.plot(np.ones(2)*lag, np.r_[0, -(1.-np.exp(b*lag))*0.15+0.1], 'k--', lw=1)\n",
    "    plt.plot(lag, -(1.-np.exp(b*lag))*0.15+0.1, 'ro', ms=4)\n",
    "    if i==0:\n",
    "        plt.text(lag-0.02, -0.12, \"$t^{n}$\")\n",
    "    else:\n",
    "        plt.text(lag-0.02, -0.12, (\"$t^{n-%i}$\")%(i))\n",
    "    i-=1\n",
    "plt.text(1.15, -0.02, \"$u$\")\n",
    "plt.text(0.05, 1, \"$\\\\vec{e}(u)$\")\n",
    "plt.text(0.7, 1, \"$\\sigma(t-u)$\", color='r')\n",
    "plt.gca().axis('off')\n",
    "fig.savefig(figdir+\"convolution_concept\", dpi=200)"
   ]
  }
 ],
 "metadata": {
  "kernelspec": {
   "display_name": "Python 3",
   "language": "python",
   "name": "python3"
  },
  "language_info": {
   "codemirror_mode": {
    "name": "ipython",
    "version": 3
   },
   "file_extension": ".py",
   "mimetype": "text/x-python",
   "name": "python",
   "nbconvert_exporter": "python",
   "pygments_lexer": "ipython3",
   "version": "3.7.3"
  }
 },
 "nbformat": 4,
 "nbformat_minor": 2
}
