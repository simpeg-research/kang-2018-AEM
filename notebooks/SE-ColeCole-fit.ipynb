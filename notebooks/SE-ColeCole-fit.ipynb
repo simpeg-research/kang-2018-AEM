{
 "cells": [
  {
   "cell_type": "code",
   "execution_count": 1,
   "metadata": {},
   "outputs": [],
   "source": [
    "from SimPEG import *\n",
    "from SimPEG import EM\n",
    "from scipy.constants import mu_0\n",
    "import numpy as np\n",
    "import scipy.sparse as sp\n",
    "from simpegEMIP.StretchedExponential import SEInvImpulseProblem, SESurvey\n",
    "import matplotlib.pyplot as plt\n",
    "from pymatsolver import PardisoSolver\n",
    "from simpegEM1D import DigFilter\n",
    "%matplotlib inline\n",
    "import matplotlib \n",
    "matplotlib.rcParams[\"font.size\"] = 14\n",
    "\n",
    "def ColeColePelton(f, sigmaInf, eta, tau, c):\n",
    "    w = 2*np.pi*f\n",
    "    return sigmaInf*(1 - eta/(1 + (1-eta)*(1j*w*tau)**c))\n",
    "\n",
    "def ColeColeSeigel(f, sigmaInf, eta, tau, c):\n",
    "    w = 2*np.pi*f\n",
    "    return sigmaInf*(1 - eta/(1 + (1j*w*tau)**c))\n",
    "\n",
    "def estimate_se_from_colecole(eta0, tau0, c0, siginf=1.):\n",
    "    time = np.logspace(-6,np.log10(0.01), 41)\n",
    "    wt, tbase, omega_int = DigFilter.setFrequency(time)\n",
    "    frequency = omega_int / (2*np.pi)\n",
    "    sigma = ColeColeSeigel(frequency, siginf, eta0, tau0, c0)\n",
    "    sigTCole = DigFilter.transFiltImpulse(sigma, wt, tbase, omega_int, time, tol=1e-12)\n",
    "    wires = Maps.Wires(('eta', 1), ('tau', 1), ('c', 1))\n",
    "    taumap = Maps.ExpMap(nP=1)*wires.tau\n",
    "    survey = SESurvey()\n",
    "    dtrue = -sigTCole\n",
    "    survey.dobs = dtrue\n",
    "    m1D = Mesh.TensorMesh([np.ones(3)])\n",
    "    prob = SEInvImpulseProblem(m1D, etaMap = wires.eta, tauMap = taumap, cMap=wires.c)\n",
    "    prob.time = time\n",
    "    prob.pair(survey)\n",
    "    m0 = np.r_[eta0, np.log(tau0), c0]\n",
    "    perc = 0.01\n",
    "    dmisfitpeta = DataMisfit.l2_DataMisfit(survey)\n",
    "    dmisfitpeta.W = 1/(abs(survey.dobs)*perc)\n",
    "    reg = Regularization.Simple(m1D)\n",
    "    opt = Optimization.ProjectedGNCG(maxIter = 10)\n",
    "    invProb = InvProblem.BaseInvProblem(dmisfitpeta, reg, opt)\n",
    "    # Create an inversion object\n",
    "    target = Directives.TargetMisfit()\n",
    "    betaSch = Directives.BetaSchedule(coolingFactor=1, coolingRate=1)\n",
    "    # invProb.beta = 0.\n",
    "    inv = Inversion.BaseInversion(invProb, directiveList=[betaSch, target])\n",
    "    reg.mref = 0.*m0\n",
    "    prob.counter = opt.counter = Utils.Counter()\n",
    "    opt.LSshorten = 0.5\n",
    "    opt.remember('xc')\n",
    "    opt.tolX = 1e-20\n",
    "    opt.tolF = 1e-20\n",
    "    opt.tolG = 1e-20\n",
    "    opt.eps = 1e-20\n",
    "    # opt.lower = 0.\n",
    "    mopt = inv.run(m0)\n",
    "    return mopt, invProb.dpred, survey.dobs"
   ]
  },
  {
   "cell_type": "code",
   "execution_count": 2,
   "metadata": {},
   "outputs": [
    {
     "ename": "ImportError",
     "evalue": "cannot import name 'factorial' from 'scipy.misc' (/Users/sgkang/anaconda3/lib/python3.7/site-packages/scipy/misc/__init__.py)",
     "output_type": "error",
     "traceback": [
      "\u001b[0;31m---------------------------------------------------------------------------\u001b[0m",
      "\u001b[0;31mImportError\u001b[0m                               Traceback (most recent call last)",
      "\u001b[0;32m<ipython-input-2-ce87a94f03d4>\u001b[0m in \u001b[0;36m<module>\u001b[0;34m\u001b[0m\n\u001b[0;32m----> 1\u001b[0;31m \u001b[0;32mfrom\u001b[0m \u001b[0mEMTD\u001b[0m\u001b[0;34m.\u001b[0m\u001b[0mUtils\u001b[0m \u001b[0;32mimport\u001b[0m \u001b[0mhzAnalyticDipoleT\u001b[0m\u001b[0;34m,\u001b[0m \u001b[0mhzAnalyticDipoleT_CC\u001b[0m\u001b[0;34m\u001b[0m\u001b[0;34m\u001b[0m\u001b[0m\n\u001b[0m",
      "\u001b[0;32m~/Projects/pyEMTD/EMTD/__init__.py\u001b[0m in \u001b[0;36m<module>\u001b[0;34m\u001b[0m\n\u001b[0;32m----> 1\u001b[0;31m \u001b[0;32mfrom\u001b[0m \u001b[0;34m.\u001b[0m \u001b[0;32mimport\u001b[0m \u001b[0mUtils\u001b[0m\u001b[0;34m\u001b[0m\u001b[0;34m\u001b[0m\u001b[0m\n\u001b[0m\u001b[1;32m      2\u001b[0m \u001b[0;32mfrom\u001b[0m \u001b[0;34m.\u001b[0m \u001b[0;32mimport\u001b[0m \u001b[0mMixins\u001b[0m\u001b[0;34m\u001b[0m\u001b[0;34m\u001b[0m\u001b[0m\n\u001b[1;32m      3\u001b[0m \u001b[0;32mfrom\u001b[0m \u001b[0;34m.\u001b[0m\u001b[0mEMTD_b\u001b[0m \u001b[0;32mimport\u001b[0m \u001b[0mEMTD_b\u001b[0m\u001b[0;34m\u001b[0m\u001b[0;34m\u001b[0m\u001b[0m\n\u001b[1;32m      4\u001b[0m \u001b[0;32mfrom\u001b[0m \u001b[0;34m.\u001b[0m\u001b[0mEMTD_bipAlt\u001b[0m \u001b[0;32mimport\u001b[0m \u001b[0mEMTD_bipAlt\u001b[0m\u001b[0;34m\u001b[0m\u001b[0;34m\u001b[0m\u001b[0m\n\u001b[1;32m      5\u001b[0m \u001b[0;32mfrom\u001b[0m \u001b[0;34m.\u001b[0m\u001b[0mEMTD_bipInfAlt\u001b[0m \u001b[0;32mimport\u001b[0m \u001b[0mEMTD_bipInfAlt\u001b[0m\u001b[0;34m\u001b[0m\u001b[0;34m\u001b[0m\u001b[0m\n",
      "\u001b[0;32m~/Projects/pyEMTD/EMTD/Utils/__init__.py\u001b[0m in \u001b[0;36m<module>\u001b[0;34m\u001b[0m\n\u001b[1;32m      1\u001b[0m \u001b[0;32mfrom\u001b[0m \u001b[0;34m.\u001b[0m \u001b[0;32mimport\u001b[0m \u001b[0mSources\u001b[0m\u001b[0;34m\u001b[0m\u001b[0;34m\u001b[0m\u001b[0m\n\u001b[0;32m----> 2\u001b[0;31m \u001b[0;32mfrom\u001b[0m \u001b[0;34m.\u001b[0m\u001b[0mpade\u001b[0m \u001b[0;32mimport\u001b[0m \u001b[0mpadeTE\u001b[0m\u001b[0;34m,\u001b[0m \u001b[0mpadeEval\u001b[0m\u001b[0;34m,\u001b[0m \u001b[0mpadeSC\u001b[0m\u001b[0;34m\u001b[0m\u001b[0;34m\u001b[0m\u001b[0m\n\u001b[0m\u001b[1;32m      3\u001b[0m \u001b[0;32mfrom\u001b[0m \u001b[0;34m.\u001b[0m\u001b[0mmisc\u001b[0m \u001b[0;32mimport\u001b[0m \u001b[0mtransFilt\u001b[0m\u001b[0;34m,\u001b[0m \u001b[0mgetBlkInd\u001b[0m\u001b[0;34m,\u001b[0m \u001b[0mpath2edgeModel\u001b[0m\u001b[0;34m,\u001b[0m \u001b[0muniqueRows\u001b[0m\u001b[0;34m,\u001b[0m \u001b[0mgetMultiMass\u001b[0m\u001b[0;34m,\u001b[0m \u001b[0msmooth\u001b[0m\u001b[0;34m\u001b[0m\u001b[0;34m\u001b[0m\u001b[0m\n\u001b[1;32m      4\u001b[0m \u001b[0;32mfrom\u001b[0m \u001b[0;34m.\u001b[0m\u001b[0mColeCole\u001b[0m \u001b[0;32mimport\u001b[0m \u001b[0mColeCole\u001b[0m\u001b[0;34m,\u001b[0m \u001b[0mColeColePade\u001b[0m\u001b[0;34m,\u001b[0m \u001b[0mColeColeImp\u001b[0m\u001b[0;34m,\u001b[0m \u001b[0mColeColePadeImp\u001b[0m\u001b[0;34m,\u001b[0m \u001b[0mColeCole05_AnalyticInp\u001b[0m\u001b[0;34m\u001b[0m\u001b[0;34m\u001b[0m\u001b[0m\n\u001b[1;32m      5\u001b[0m \u001b[0;32mfrom\u001b[0m \u001b[0;34m.\u001b[0m\u001b[0mFEM\u001b[0m \u001b[0;32mimport\u001b[0m \u001b[0mhzAnalyticDipoleF\u001b[0m\u001b[0;34m,\u001b[0m \u001b[0mhzAnalyticDipoleF_CC\u001b[0m\u001b[0;34m,\u001b[0m \u001b[0mhzAnalyticDipoleF_PD\u001b[0m\u001b[0;34m,\u001b[0m \u001b[0mhzAnalyticCentLoopF\u001b[0m\u001b[0;34m,\u001b[0m \u001b[0mhzAnalyticCentLoopF_CC\u001b[0m\u001b[0;34m,\u001b[0m \u001b[0mhzAnalyticCentLoopF_PD\u001b[0m\u001b[0;34m\u001b[0m\u001b[0;34m\u001b[0m\u001b[0m\n",
      "\u001b[0;32m~/Projects/pyEMTD/EMTD/Utils/pade.py\u001b[0m in \u001b[0;36m<module>\u001b[0;34m\u001b[0m\n\u001b[1;32m      1\u001b[0m \u001b[0;32mimport\u001b[0m \u001b[0msympy\u001b[0m \u001b[0;32mas\u001b[0m \u001b[0msym\u001b[0m\u001b[0;34m\u001b[0m\u001b[0;34m\u001b[0m\u001b[0m\n\u001b[1;32m      2\u001b[0m \u001b[0;32mimport\u001b[0m \u001b[0mnumpy\u001b[0m \u001b[0;32mas\u001b[0m \u001b[0mnp\u001b[0m\u001b[0;34m\u001b[0m\u001b[0;34m\u001b[0m\u001b[0m\n\u001b[0;32m----> 3\u001b[0;31m \u001b[0;32mfrom\u001b[0m \u001b[0mscipy\u001b[0m\u001b[0;34m.\u001b[0m\u001b[0mmisc\u001b[0m \u001b[0;32mimport\u001b[0m \u001b[0mfactorial\u001b[0m\u001b[0;34m\u001b[0m\u001b[0;34m\u001b[0m\u001b[0m\n\u001b[0m\u001b[1;32m      4\u001b[0m \u001b[0;32mfrom\u001b[0m \u001b[0mscipy\u001b[0m\u001b[0;34m.\u001b[0m\u001b[0msparse\u001b[0m \u001b[0;32mimport\u001b[0m \u001b[0mspdiags\u001b[0m\u001b[0;34m\u001b[0m\u001b[0;34m\u001b[0m\u001b[0m\n\u001b[1;32m      5\u001b[0m \u001b[0;32mfrom\u001b[0m \u001b[0mscipy\u001b[0m\u001b[0;34m.\u001b[0m\u001b[0mspecial\u001b[0m \u001b[0;32mimport\u001b[0m \u001b[0mbinom\u001b[0m\u001b[0;34m\u001b[0m\u001b[0;34m\u001b[0m\u001b[0m\n",
      "\u001b[0;31mImportError\u001b[0m: cannot import name 'factorial' from 'scipy.misc' (/Users/sgkang/anaconda3/lib/python3.7/site-packages/scipy/misc/__init__.py)"
     ]
    }
   ],
   "source": [
    "from EMTD.Utils import hzAnalyticDipoleT, hzAnalyticDipoleT_CC"
   ]
  },
  {
   "cell_type": "code",
   "execution_count": null,
   "metadata": {},
   "outputs": [],
   "source": [
    "def ColeSEImpulse(time, eta, tau, c):    \n",
    "    return eta*c/time*((time/tau)**c)*np.exp(-(time/tau)**c)\n",
    "def ColeSEImpulseApprox(time, eta, tau, c):    \n",
    "    m = eta*c/(tau**c)    \n",
    "    peta = m*time**(c-1.) * (1. - (time/tau)**c )  \n",
    "    return peta"
   ]
  },
  {
   "cell_type": "code",
   "execution_count": null,
   "metadata": {},
   "outputs": [],
   "source": [
    "# siginf, eta0, tau0, c0 = 1., 0.7, 1e-3, cs[i]"
   ]
  },
  {
   "cell_type": "code",
   "execution_count": null,
   "metadata": {},
   "outputs": [],
   "source": [
    "eta1, tau1, c1 = 0.1, 1e-3, 0.7\n",
    "mopt1, pred1, dobs1 = estimate_se_from_colecole(eta1, tau1, c1)\n",
    "eta1_se, tau1_se, c1_se = mopt1[0], np.exp(mopt1[1]), mopt1[2]"
   ]
  },
  {
   "cell_type": "code",
   "execution_count": null,
   "metadata": {},
   "outputs": [],
   "source": [
    "eta2, tau2, c2 = 0.1, 1e-2, 0.7\n",
    "mopt2, pred2, dobs2 = estimate_se_from_colecole(eta2, tau2, c1)\n",
    "eta2_se, tau2_se, c2_se = mopt2[0], np.exp(mopt2[1]), mopt2[2]"
   ]
  },
  {
   "cell_type": "code",
   "execution_count": 3,
   "metadata": {},
   "outputs": [
    {
     "data": {
      "image/png": "[encoded data removed]",
      "text/plain": [
       "<Figure size 432x288 with 2 Axes>"
      ]
     },
     "metadata": {
      "needs_background": "light"
     },
     "output_type": "display_data"
    }
   ],
   "source": [
    "figdir = \"./figures\"\n",
    "fig = plt.figure()\n",
    "ax = plt.subplot(111)\n",
    "ax_1 = ax.twinx()\n",
    "frequency = np.logspace(-3, 6, 91)\n",
    "sigma_1 = ColeColeSeigel(frequency, sigmaInf=1, eta=0.1, tau=0.001, c=0.7)\n",
    "sigma_3 = ColeColeSeigel(frequency, sigmaInf=1, eta=0.1, tau=0.01, c=0.7)\n",
    "ax.semilogx(frequency, sigma_1.real, 'k', lw=2)\n",
    "ax_1.semilogx(frequency, sigma_1.imag, 'k', lw=2, linestyle='--')\n",
    "ax.semilogx(frequency, sigma_3.real, 'r', lw=2)\n",
    "ax_1.semilogx(frequency, sigma_3.imag, 'r', lw=2, linestyle='--')\n",
    "ax.set_ylim(0.7, 1.01)\n",
    "ax_1.set_ylim(0., 0.1)\n",
    "ax.set_xlabel(\"Frequency ($Hz$)\")\n",
    "ax.set_ylabel(\"Conductivity ($S/m$)\")\n",
    "ax.set_ylabel(\"Real conductivity ($S/m$)\")\n",
    "ax_1.set_ylabel(\"Imaginary conductivity ($S/m$)\")\n",
    "ax.grid(True)\n",
    "plt.tight_layout()\n",
    "fig.savefig(figdir + \"colecole_freq\", dpi=200)"
   ]
  },
  {
   "cell_type": "code",
   "execution_count": 4,
   "metadata": {},
   "outputs": [],
   "source": [
    "# # later make a table here.\n",
    "# fig = plt.figure()\n",
    "# ax = plt.subplot(111)\n",
    "# ax.loglog(time, dobs1, 'k', lw=2)\n",
    "# ax.loglog(time, dobs2, 'r', lw=2)\n",
    "# # ax.legend((\"$\\\\tau_{cc}$=0.01\", \"$\\\\tau_{cc}$=0.001\",), loc=1)\n",
    "# ax.set_xlabel(\"Time (s)\")\n",
    "# ax.set_ylabel(\"-$\\sigma_{cc}(t)$\")\n",
    "# ax_1 = ax.twinx()\n",
    "# ax_1.set_yticks([])\n",
    "# ax.grid(True)\n",
    "# # ax.set_title(\"Fitting Cole-Cole with SE\", fontsize = 16)\n",
    "# plt.tight_layout()\n",
    "# fig.savefig(figdir + \"colecole_time\", dpi=200)"
   ]
  },
  {
   "cell_type": "code",
   "execution_count": 5,
   "metadata": {},
   "outputs": [
    {
     "name": "stdout",
     "output_type": "stream",
     "text": [
      "SimPEG.DataMisfit.l2_DataMisfit assigning default std of 5%\n",
      "SimPEG.DataMisfit.l2_DataMisfit assigning default eps of 1e-5 * ||dobs||\n",
      "\n",
      "    SimPEG.InvProblem is setting bfgsH0 to the inverse of the eval2Deriv.\n",
      "    ***Done using same Solver and solverOpts as the problem***\n",
      "model has any nan: 0\n",
      "=============================== Projected GNCG ===============================\n",
      "  #     beta     phi_d     phi_m       f      |proj(x-g)-x|  LS    Comment   \n",
      "-----------------------------------------------------------------------------\n",
      "x0 has any nan: 0\n",
      "   0  1.00e+00  1.62e+04  7.44e+01  1.63e+04    1.35e+06      0              \n",
      "   1  1.00e+00  1.88e+02  7.71e+01  2.65e+02    1.83e+04      0              \n",
      "   2  1.00e+00  6.51e+01  7.94e+01  1.45e+02    4.76e+03      0   Skip BFGS  \n",
      "   3  1.00e+00  6.46e+01  7.96e+01  1.44e+02    1.71e+01      0   Skip BFGS  \n",
      "   4  1.00e+00  6.45e+01  7.96e+01  1.44e+02    9.36e-02      0   Skip BFGS  \n",
      "   5  1.00e+00  6.45e+01  7.96e+01  1.44e+02    9.36e-02      0   Skip BFGS  \n",
      "   6  1.00e+00  6.45e+01  7.96e+01  1.44e+02    9.36e-02      0   Skip BFGS  \n",
      "   7  1.00e+00  6.45e+01  7.96e+01  1.44e+02    9.36e-02      0   Skip BFGS  \n",
      "   8  1.00e+00  6.45e+01  7.96e+01  1.44e+02    9.36e-02      0   Skip BFGS  \n",
      "   9  1.00e+00  6.45e+01  7.96e+01  1.44e+02    9.36e-02      0   Skip BFGS  \n",
      "  10  1.00e+00  6.45e+01  7.96e+01  1.44e+02    9.36e-02      0   Skip BFGS  \n",
      "------------------------- STOP! -------------------------\n",
      "1 : |fc-fOld| = 0.0000e+00 <= tolF*(1+|f0|) = 1.6318e-16\n",
      "1 : |xc-x_last| = 0.0000e+00 <= tolX*(1+|x0|) = 7.9150e-20\n",
      "0 : |proj(x-g)-x|    = 9.3639e-02 <= tolG          = 1.0000e-20\n",
      "0 : |proj(x-g)-x|    = 9.3639e-02 <= 1e3*eps       = 1.0000e-17\n",
      "1 : maxIter   =      10    <= iter          =     10\n",
      "------------------------- DONE! -------------------------\n"
     ]
    }
   ],
   "source": [
    "eta1, tau1, c1 = 0.1, 1e-3, 0.3\n",
    "mopt1, pred1, dobs1 = estimate_se_from_colecole(eta1, tau1, c1)\n",
    "eta1_se, tau1_se, c1_se = mopt1[0], np.exp(mopt1[1]), mopt1[2]"
   ]
  },
  {
   "cell_type": "code",
   "execution_count": 6,
   "metadata": {},
   "outputs": [
    {
     "name": "stdout",
     "output_type": "stream",
     "text": [
      "SimPEG.DataMisfit.l2_DataMisfit assigning default std of 5%\n",
      "SimPEG.DataMisfit.l2_DataMisfit assigning default eps of 1e-5 * ||dobs||\n",
      "\n",
      "    SimPEG.InvProblem is setting bfgsH0 to the inverse of the eval2Deriv.\n",
      "    ***Done using same Solver and solverOpts as the problem***\n",
      "model has any nan: 0\n",
      "=============================== Projected GNCG ===============================\n",
      "  #     beta     phi_d     phi_m       f      |proj(x-g)-x|  LS    Comment   \n",
      "-----------------------------------------------------------------------------\n",
      "x0 has any nan: 0\n",
      "   0  1.00e+00  7.07e+03  7.60e+01  7.14e+03    5.30e+05      0              \n",
      "   1  1.00e+00  6.18e+02  7.64e+01  6.94e+02    2.80e+04      0              \n",
      "   2  1.00e+00  6.07e+02  7.64e+01  6.84e+02    2.01e+02      0              \n",
      "   3  1.00e+00  6.07e+02  7.64e+01  6.84e+02    1.02e+01      0              \n",
      "   4  1.00e+00  6.07e+02  7.64e+01  6.84e+02    5.08e-01      0              \n",
      "   5  1.00e+00  6.07e+02  7.64e+01  6.84e+02    2.59e-02      0              \n",
      "   6  1.00e+00  6.07e+02  7.64e+01  6.84e+02    2.59e-02      0   Skip BFGS  \n",
      "   7  1.00e+00  6.07e+02  7.64e+01  6.84e+02    2.59e-02      0   Skip BFGS  \n",
      "   8  1.00e+00  6.07e+02  7.64e+01  6.84e+02    2.59e-02      0   Skip BFGS  \n",
      "   9  1.00e+00  6.07e+02  7.64e+01  6.84e+02    2.59e-02      0   Skip BFGS  \n",
      "  10  1.00e+00  6.07e+02  7.64e+01  6.84e+02    2.59e-02      0   Skip BFGS  \n",
      "------------------------- STOP! -------------------------\n",
      "1 : |fc-fOld| = 0.0000e+00 <= tolF*(1+|f0|) = 7.1430e-17\n",
      "1 : |xc-x_last| = 0.0000e+00 <= tolX*(1+|x0|) = 7.9265e-20\n",
      "0 : |proj(x-g)-x|    = 2.5933e-02 <= tolG          = 1.0000e-20\n",
      "0 : |proj(x-g)-x|    = 2.5933e-02 <= 1e3*eps       = 1.0000e-17\n",
      "1 : maxIter   =      10    <= iter          =     10\n",
      "------------------------- DONE! -------------------------\n"
     ]
    }
   ],
   "source": [
    "eta2, tau2, c2 = 0.1, 1e-3, 0.5\n",
    "mopt2, pred2, dobs2 = estimate_se_from_colecole(eta2, tau2, c2)\n",
    "eta2_se, tau2_se, c2_se = mopt2[0], np.exp(mopt2[1]), mopt2[2]"
   ]
  },
  {
   "cell_type": "code",
   "execution_count": 7,
   "metadata": {},
   "outputs": [
    {
     "name": "stdout",
     "output_type": "stream",
     "text": [
      "SimPEG.DataMisfit.l2_DataMisfit assigning default std of 5%\n",
      "SimPEG.DataMisfit.l2_DataMisfit assigning default eps of 1e-5 * ||dobs||\n",
      "\n",
      "    SimPEG.InvProblem is setting bfgsH0 to the inverse of the eval2Deriv.\n",
      "    ***Done using same Solver and solverOpts as the problem***\n",
      "model has any nan: 0\n",
      "=============================== Projected GNCG ===============================\n",
      "  #     beta     phi_d     phi_m       f      |proj(x-g)-x|  LS    Comment   \n",
      "-----------------------------------------------------------------------------\n",
      "x0 has any nan: 0\n",
      "   0  1.00e+00  5.85e+03  7.76e+01  5.93e+03    1.30e+05      0              \n",
      "   1  1.00e+00  2.09e+03  7.59e+01  2.17e+03    9.39e+03      0              \n",
      "   2  1.00e+00  1.98e+03  7.51e+01  2.05e+03    1.38e+03      0              \n",
      "   3  1.00e+00  1.98e+03  7.50e+01  2.05e+03    7.46e+01      0   Skip BFGS  \n",
      "   4  1.00e+00  1.98e+03  7.50e+01  2.05e+03    1.61e+01      0   Skip BFGS  \n",
      "   5  1.00e+00  1.98e+03  7.50e+01  2.05e+03    1.51e+00      0   Skip BFGS  \n",
      "   6  1.00e+00  1.98e+03  7.50e+01  2.05e+03    2.32e-01      0   Skip BFGS  \n",
      "   7  1.00e+00  1.98e+03  7.50e+01  2.05e+03    2.71e-02      0   Skip BFGS  \n",
      "   8  1.00e+00  1.98e+03  7.50e+01  2.05e+03    2.71e-02      0   Skip BFGS  \n",
      "   9  1.00e+00  1.98e+03  7.50e+01  2.05e+03    2.71e-02      0   Skip BFGS  \n",
      "  10  1.00e+00  1.98e+03  7.50e+01  2.05e+03    2.71e-02      0   Skip BFGS  \n",
      "------------------------- STOP! -------------------------\n",
      "1 : |fc-fOld| = 0.0000e+00 <= tolF*(1+|f0|) = 5.9302e-17\n",
      "1 : |xc-x_last| = 0.0000e+00 <= tolX*(1+|x0|) = 7.9439e-20\n",
      "0 : |proj(x-g)-x|    = 2.7072e-02 <= tolG          = 1.0000e-20\n",
      "0 : |proj(x-g)-x|    = 2.7072e-02 <= 1e3*eps       = 1.0000e-17\n",
      "1 : maxIter   =      10    <= iter          =     10\n",
      "------------------------- DONE! -------------------------\n"
     ]
    }
   ],
   "source": [
    "eta3, tau3, c3 = 0.1, 1e-3, 0.7\n",
    "mopt3, pred3, dobs3 = estimate_se_from_colecole(eta3, tau3, c3)\n",
    "eta3_se, tau3_se, c3_se = mopt3[0], np.exp(mopt3[1]), mopt3[2]"
   ]
  },
  {
   "cell_type": "code",
   "execution_count": 8,
   "metadata": {},
   "outputs": [],
   "source": [
    "time = np.logspace(-6,np.log10(0.01), 41)"
   ]
  },
  {
   "cell_type": "code",
   "execution_count": 9,
   "metadata": {},
   "outputs": [],
   "source": [
    "import matplotlib\n",
    "matplotlib.rcParams['font.size'] = 14"
   ]
  },
  {
   "cell_type": "code",
   "execution_count": 10,
   "metadata": {},
   "outputs": [
    {
     "name": "stdout",
     "output_type": "stream",
     "text": [
      "True      eta, tau and c = 1e-01, 1e-03 and 0.3\n",
      "Estimated eta, tau and c = 9e-02, 8e-04 and 0.2\n"
     ]
    }
   ],
   "source": [
    "print ((\"True      eta, tau and c = %.e, %.e and %3.1f\")%(eta1, tau1, c1))\n",
    "print ((\"Estimated eta, tau and c = %.e, %.e and %3.1f\")%(eta1_se, tau1_se, c1_se))"
   ]
  },
  {
   "cell_type": "code",
   "execution_count": 11,
   "metadata": {},
   "outputs": [
    {
     "name": "stdout",
     "output_type": "stream",
     "text": [
      "True      eta, tau and c = 1e-01, 1e-03 and 0.5\n",
      "Estimated eta, tau and c = 9e-02, 1e-03 and 0.4\n"
     ]
    }
   ],
   "source": [
    "print ((\"True      eta, tau and c = %.e, %.e and %3.1f\")%(eta2, tau2, c2))\n",
    "print ((\"Estimated eta, tau and c = %.e, %.e and %3.1f\")%(eta2_se, tau2_se, c2_se))"
   ]
  },
  {
   "cell_type": "code",
   "execution_count": 12,
   "metadata": {},
   "outputs": [
    {
     "name": "stdout",
     "output_type": "stream",
     "text": [
      "True      eta, tau and c = 1e-01, 1e-03 and 0.7\n",
      "Estimated eta, tau and c = 9e-02, 1e-03 and 0.6\n"
     ]
    }
   ],
   "source": [
    "print ((\"True      eta, tau and c = %.e, %.e and %3.1f\")%(eta3, tau3, c3))\n",
    "print ((\"Estimated eta, tau and c = %.e, %.e and %3.1f\")%(eta3_se, tau3_se, c3_se))"
   ]
  },
  {
   "cell_type": "code",
   "execution_count": 13,
   "metadata": {
    "scrolled": false
   },
   "outputs": [
    {
     "data": {
      "image/png": "[encoded data removed]",
      "text/plain": [
       "<Figure size 432x288 with 2 Axes>"
      ]
     },
     "metadata": {
      "needs_background": "light"
     },
     "output_type": "display_data"
    }
   ],
   "source": [
    "# later make a table here.\n",
    "fig = plt.figure()\n",
    "ax = plt.subplot(111)\n",
    "ax.loglog(time*1e3, dobs1, 'k', lw=1)\n",
    "ax.loglog(time*1e3, dobs2, 'b', lw=1)\n",
    "ax.loglog(time*1e3, dobs3, 'r', lw=1)\n",
    "ax.legend((\"$c_{cc}$=0.3\", \"$c_{cc}$=0.5\", \"$c_{cc}$=0.7\",), loc=3)\n",
    "ax.loglog(time*1e3, pred1, 'ko', alpha = 0.5, ms=4)\n",
    "ax.loglog(time*1e3, pred2, 'bo', alpha = 0.5, ms=4)\n",
    "ax.loglog(time*1e3, pred3, 'ro', alpha = 0.5, ms=4)\n",
    "ax.set_xlabel(\"Time ($ms$)\")\n",
    "ax.set_ylabel(\"-$\\sigma(t) (S/m)$\")\n",
    "ax_1 = ax.twinx()\n",
    "ax_1.set_yticks([])\n",
    "ax_1.plot(0., 0., 'k')\n",
    "ax_1.plot(0., 0., 'ko', alpha = 0.5, ms=4)\n",
    "ax_1.legend((\"Cole-Cole\", \"SE fit\"))\n",
    "# plt.legend((l1, l2), (\"Cole-Cole\"))\n",
    "# plt.legend((\"Cole-Cole\", \"Stretched Exp.\"), fontsize = 12)\n",
    "ax.grid(True)\n",
    "ax.set_title(\"Fitting Cole-Cole with SE\", fontsize = 16)\n",
    "plt.tight_layout()\n",
    "fig.savefig(figdir+\"se_curves\", dpi=200)\n"
   ]
  },
  {
   "cell_type": "code",
   "execution_count": null,
   "metadata": {},
   "outputs": [],
   "source": []
  }
 ],
 "metadata": {
  "anaconda-cloud": {},
  "kernelspec": {
   "display_name": "Python 3",
   "language": "python",
   "name": "python3"
  },
  "language_info": {
   "codemirror_mode": {
    "name": "ipython",
    "version": 3
   },
   "file_extension": ".py",
   "mimetype": "text/x-python",
   "name": "python",
   "nbconvert_exporter": "python",
   "pygments_lexer": "ipython3",
   "version": "3.7.3"
  }
 },
 "nbformat": 4,
 "nbformat_minor": 1
}
