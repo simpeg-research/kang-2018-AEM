{
 "cells": [
  {
   "cell_type": "code",
   "execution_count": 1,
   "metadata": {},
   "outputs": [],
   "source": [
    "from SimPEG import *\n",
    "from SimPEG import EM\n",
    "from scipy.constants import mu_0\n",
    "import numpy as np\n",
    "import scipy.sparse as sp\n",
    "from simpegEMIP.StretchedExponential import SEInvImpulseProblem, SESurvey\n",
    "import matplotlib.pyplot as plt\n",
    "from pymatsolver import PardisoSolver\n",
    "%matplotlib inline"
   ]
  },
  {
   "cell_type": "code",
   "execution_count": 2,
   "metadata": {},
   "outputs": [],
   "source": [
    "figdir = \"../../docs/figures/\""
   ]
  },
  {
   "cell_type": "code",
   "execution_count": 3,
   "metadata": {},
   "outputs": [],
   "source": [
    "from simpegEMIP.SeogiUtils.View import Rectangle2D"
   ]
  },
  {
   "cell_type": "code",
   "execution_count": 4,
   "metadata": {},
   "outputs": [],
   "source": [
    "rxloc = np.array([[0., 0., 30.]])\n",
    "srcloc = np.array([[0., 0., 30.]])"
   ]
  },
  {
   "cell_type": "code",
   "execution_count": 5,
   "metadata": {},
   "outputs": [],
   "source": [
    "from simpegEMIP.TDEM import Problem3D_e, Problem3DEM_e, Rx, Survey"
   ]
  },
  {
   "cell_type": "code",
   "execution_count": 6,
   "metadata": {},
   "outputs": [
    {
     "name": "stdout",
     "output_type": "stream",
     "text": [
      "0.1 0.001 0.7\n"
     ]
    },
    {
     "name": "stderr",
     "output_type": "stream",
     "text": [
      "/Users/sgkang/Projects/simpeg/SimPEG/Props.py:399: UserWarning: Cannot add model as there are no active mappings, choose from: ['cMap', 'etaMap', 'rhoMap', 'sigmaInfMap', 'sigmaMap', 'tauMap']\n",
      "  \"', '\".join(self._all_map_names)\n",
      "/Users/sgkang/Projects/simpeg/SimPEG/Props.py:399: UserWarning: Cannot add model as there are no active mappings, choose from: ['rhoMap', 'sigmaMap']\n",
      "  \"', '\".join(self._all_map_names)\n"
     ]
    },
    {
     "name": "stdout",
     "output_type": "stream",
     "text": [
      "0.1 0.001 0.7\n",
      "0.1 0.001 0.7\n",
      "0.1 0.001 0.7\n",
      "0.1 0.001 0.7\n"
     ]
    }
   ],
   "source": [
    "cs, ncx, ncz, npad = 10., 10, 40, 20\n",
    "hx = [(cs,ncx), (cs,npad,1.3)]\n",
    "hz = [(cs,npad,-1.3), (cs,ncz), (cs,npad,1.3)]\n",
    "mesh = Mesh.CylMesh([hx,1,hz], '00C')    \n",
    "sig_2s = [0.0001, 0.001, 0.01, 0.1, 1.]\n",
    "sig_1 = 0.001\n",
    "data_list = []\n",
    "data_em_list = []\n",
    "data_ip_list = []\n",
    "for sig_2 in sig_2s:    \n",
    "    sigmaInf = np.ones(mesh.nC) * sig_1\n",
    "    airind = mesh.gridCC[:,2]>0.\n",
    "    blkind  = np.logical_and(mesh.gridCC[:,0]<200., (mesh.gridCC[:,2]<0)&(mesh.gridCC[:,2]>-150)&(mesh.gridCC[:,2]<-50))\n",
    "    sigmaInf[airind] = 1e-8\n",
    "    sigmaInf[blkind] = sig_2\n",
    "    eta_CC, tau_CC, c_CC = 0.1, 0.001, 0.7\n",
    "    print (eta_CC, tau_CC, c_CC)\n",
    "    eta = np.zeros(mesh.nC)\n",
    "    eta[blkind] = eta_CC\n",
    "    tau = np.ones(mesh.nC) * tau_CC\n",
    "    c = np.ones(mesh.nC) * c_CC \n",
    "\n",
    "    rx_emip = Rx.Point_dbdt(rxloc, np.logspace(np.log10(1e-5), np.log10(0.009), 51), 'z')\n",
    "    src_emip = EM.TDEM.Src.CircularLoop([rx_emip], waveform=EM.TDEM.Src.StepOffWaveform(), loc=srcloc, radius = 13.)\n",
    "    survey_emip = Survey([src_emip])\n",
    "    prb_emip = Problem3D_e(mesh, sigmaInf=sigmaInf, eta=eta, tau=tau, c=c)\n",
    "    prb_emip.timeSteps = [(1e-06, 5), (2.5e-06, 5), (5e-06, 5), (1e-05, 10), (2e-05, 10), (4e-05, 10), (8e-05, 10), (1.6e-04, 10), (3.2e-04, 20)]\n",
    "    prb_emip.Solver = PardisoSolver\n",
    "    prb_emip.pair(survey_emip)\n",
    "    m = np.r_[sigmaInf, eta, tau, c]\n",
    "    data = survey_emip.dpred(m)\n",
    "    data_list.append(data) \n",
    "    \n",
    "    rx_em = Rx.Point_dbdt(rxloc, np.logspace(np.log10(1e-5), np.log10(0.009), 51), 'z')\n",
    "    src_em = EM.TDEM.Src.CircularLoop([rx_em], waveform=EM.TDEM.Src.StepOffWaveform(), loc=srcloc, radius = 13.)\n",
    "    survey_em = Survey([src_em])\n",
    "#     prb_em = Problem3D_e(mesh, sigmaInf=sigmaInf, eta=eta*0., tau=tau, c=c)\n",
    "    prb_em = Problem3DEM_e(mesh, sigma=sigmaInf)\n",
    "    prb_em.timeSteps = [(1e-06, 5), (2.5e-06, 5), (5e-06, 5), (1e-05, 10), (2e-05, 10), (4e-05, 10), (8e-05, 10), (1.6e-04, 10), (3.2e-04, 20)]\n",
    "    prb_em.Solver = PardisoSolver\n",
    "    prb_em.pair(survey_em)\n",
    "    m = np.r_[sigmaInf, eta, tau, c]\n",
    "    data_em = survey_em.dpred(m)\n",
    "    data_em_list.append(data_em) \n",
    "    data_ip_list.append(data - data_em)"
   ]
  },
  {
   "cell_type": "code",
   "execution_count": 7,
   "metadata": {},
   "outputs": [],
   "source": [
    "from simpegEMIP.TDEM.Utils import get_dobs_pn\n",
    "import matplotlib \n",
    "matplotlib.rcParams[\"font.size\"] = 16\n",
    "matplotlib.rcParams[\"image.cmap\"] = \"RdBu_r\""
   ]
  },
  {
   "cell_type": "code",
   "execution_count": 8,
   "metadata": {},
   "outputs": [
    {
     "ename": "NameError",
     "evalue": "name 'rect2D' is not defined",
     "output_type": "error",
     "traceback": [
      "\u001b[0;31m---------------------------------------------------------------------------\u001b[0m",
      "\u001b[0;31mNameError\u001b[0m                                 Traceback (most recent call last)",
      "\u001b[0;32m<ipython-input-8-1aa33e157c38>\u001b[0m in \u001b[0;36m<module>\u001b[0;34m()\u001b[0m\n\u001b[1;32m      1\u001b[0m \u001b[0mmoment\u001b[0m \u001b[0;34m=\u001b[0m \u001b[0mnp\u001b[0m\u001b[0;34m.\u001b[0m\u001b[0mpi\u001b[0m\u001b[0;34m*\u001b[0m\u001b[0msrc_emip\u001b[0m\u001b[0;34m.\u001b[0m\u001b[0mradius\u001b[0m\u001b[0;34m**\u001b[0m\u001b[0;36m2\u001b[0m \u001b[0;34m/\u001b[0m \u001b[0;36m1e12\u001b[0m\u001b[0;34m\u001b[0m\u001b[0m\n\u001b[0;32m----> 2\u001b[0;31m \u001b[0mrectpts\u001b[0m \u001b[0;34m=\u001b[0m \u001b[0mrect2D\u001b[0m\u001b[0;34m(\u001b[0m\u001b[0;34m[\u001b[0m\u001b[0;36m0.2\u001b[0m\u001b[0;34m,\u001b[0m \u001b[0;36m1e-14\u001b[0m\u001b[0;34m/\u001b[0m\u001b[0mmoment\u001b[0m\u001b[0;34m]\u001b[0m\u001b[0;34m,\u001b[0m\u001b[0;34m[\u001b[0m\u001b[0;36m3.\u001b[0m\u001b[0;34m,\u001b[0m \u001b[0;36m1e-6\u001b[0m\u001b[0;34m/\u001b[0m\u001b[0mmoment\u001b[0m\u001b[0;34m]\u001b[0m\u001b[0;34m)\u001b[0m\u001b[0;34m\u001b[0m\u001b[0m\n\u001b[0m",
      "\u001b[0;31mNameError\u001b[0m: name 'rect2D' is not defined"
     ]
    }
   ],
   "source": [
    "moment = np.pi*src_emip.radius**2 / 1e12\n",
    "rectpts = rect2D([0.2, 1e-14/moment],[3., 1e-6/moment])"
   ]
  },
  {
   "cell_type": "code",
   "execution_count": null,
   "metadata": {},
   "outputs": [],
   "source": [
    "1e-13 / moment"
   ]
  },
  {
   "cell_type": "code",
   "execution_count": null,
   "metadata": {},
   "outputs": [],
   "source": [
    "fig = plt.figure(figsize = (12, 4))\n",
    "ax = plt.subplot(121)\n",
    "ax1 = plt.subplot(122)\n",
    "legends = [(\"$\\sigma_{\\infty}$=%.0e S/m\")%(sig_2) for sig_2 in sig_2s]\n",
    "ms = 1e3\n",
    "colors = [\"k\", \"b\", \"r\", \"g\", 'y', 'purple', 'grey']\n",
    "for i in range(5):\n",
    "    data_p, data_n = get_dobs_pn(data_list[i].flatten()/moment)\n",
    "    ax.loglog(rx_emip.times*ms, data_n, linestyle='-', color=colors[i], lw=2)\n",
    "\n",
    "for i in range(5):\n",
    "    data_p, data_n = get_dobs_pn(data_list[i].flatten()/moment)\n",
    "    ax.loglog(rx_emip.times*ms, data_p, linestyle='--', color=colors[i], lw=2)\n",
    "#     ax.loglog(rx_emip.times*ms, -data_em_list[i].flatten()/moment, 'x', color=colors[i], alpha=0.5)\n",
    "for i in range(5):\n",
    "    ax1.loglog(rx_emip.times*ms, abs(data_ip_list[i].flatten()/data_em_list[i].flatten()), linestyle='-', color=colors[i], lw=2)\n",
    "ax1.legend(legends, fontsize=14)\n",
    "for ax_temp in [ax, ax1]:\n",
    "    ax_temp.set_xlabel(\"Time (ms)\")        \n",
    "    ax_temp.set_xlim(2e-5*ms, 0.01*ms)\n",
    "    ax_temp.grid()\n",
    "ax.set_ylabel(\"Voltage (pV/A-m$^4$)\")    \n",
    "ax.set_ylim(1e-4, 1e5)\n",
    "ax1.set_ylim(1e-1, 1e2)\n",
    "ax1.set_ylabel('Ratio')\n",
    "ax.set_title(\"(a) Voltage (variable $\\sigma_{\\infty}$)\")\n",
    "ax1.set_title(\"(b) Ratio\")\n",
    "ax.text(0.3, 1e3, (\"Fixed $\\sigma_{half}$=%.0e S/m\")%(1e-3))\n",
    "plt.tight_layout()    \n",
    "# fig.savefig(figdir+\"data_background_1\", dpi=300)"
   ]
  },
  {
   "cell_type": "code",
   "execution_count": null,
   "metadata": {
    "scrolled": true
   },
   "outputs": [],
   "source": [
    "cs, ncx, ncz, npad = 25., 25, 40, 20\n",
    "hx = [(cs,ncx), (cs,npad,1.3)]\n",
    "hz = [(cs,npad,-1.3), (cs,ncz), (cs,npad,1.3)]\n",
    "mesh = Mesh.CylMesh([hx,1,hz], '00C')    \n",
    "sig_1s = [1./10000, 1./1000, 1./100, 1./50, 1./10.]\n",
    "\n",
    "data_list_siginf = []\n",
    "data_em_list_siginf = []\n",
    "data_ip_list_siginf = []\n",
    "for sig_1 in sig_1s:\n",
    "    sig_2 = sig_1*10.\n",
    "    sigmaInf = np.ones(mesh.nC) * sig_1\n",
    "    airind = mesh.gridCC[:,2]>0.\n",
    "    blkind  = np.logical_and(mesh.gridCC[:,0]<200., (mesh.gridCC[:,2]<0)&(mesh.gridCC[:,2]>-150)&(mesh.gridCC[:,2]<-50))\n",
    "    sigmaInf[airind] = 1e-8\n",
    "    sigmaInf[blkind] = sig_2\n",
    "    eta_CC, tau_CC, c_CC = 0.1, 0.001, 0.7\n",
    "    print (eta_CC, tau_CC, c_CC)\n",
    "    eta = np.zeros(mesh.nC)\n",
    "    eta[blkind] = eta_CC\n",
    "    tau = np.ones(mesh.nC) * tau_CC\n",
    "    c = np.ones(mesh.nC) * c_CC \n",
    "\n",
    "    rx_emip = Rx.Point_dbdt(rxloc, np.logspace(np.log10(1e-5), np.log10(0.009), 51), 'z')\n",
    "    src_emip = EM.TDEM.Src.CircularLoop([rx_emip], waveform=EM.TDEM.Src.StepOffWaveform(), loc=srcloc, radius = 13.)\n",
    "    survey_emip = Survey([src_emip])\n",
    "    prb_emip = Problem3D_e(mesh, sigmaInf=sigmaInf, eta=eta, tau=tau, c=c)\n",
    "    prb_emip.timeSteps = [(1e-06, 5), (2.5e-06, 5), (5e-06, 5), (1e-05, 10), (2e-05, 10), (4e-05, 10), (8e-05, 10), (1.6e-04, 10), (3.2e-04, 20)]\n",
    "    prb_emip.Solver = PardisoSolver\n",
    "    prb_emip.pair(survey_emip)\n",
    "    m = np.r_[sigmaInf, eta, tau, c]\n",
    "    data = survey_emip.dpred(m)\n",
    "    data_list_siginf.append(data) \n",
    "    \n",
    "    rx_em = Rx.Point_dbdt(rxloc, np.logspace(np.log10(1e-5), np.log10(0.009), 51), 'z')\n",
    "    src_em = EM.TDEM.Src.CircularLoop([rx_em], waveform=EM.TDEM.Src.StepOffWaveform(), loc=srcloc, radius = 13.)\n",
    "    survey_em = Survey([src_em])\n",
    "    prb_em = Problem3DEM_e(mesh, sigma=sigmaInf)\n",
    "#     prb_em = Problem3D_e(mesh, sigmaInf=sigmaInf, eta=eta*0., tau=tau, c=c)    \n",
    "    prb_em.timeSteps = [(1e-06, 5), (2.5e-06, 5), (5e-06, 5), (1e-05, 10), (2e-05, 10), (4e-05, 10), (8e-05, 10), (1.6e-04, 10), (3.2e-04, 20)]\n",
    "    prb_em.Solver = PardisoSolver\n",
    "    prb_em.pair(survey_em)\n",
    "    m = np.r_[sigmaInf, eta, tau, c]\n",
    "    data_em = survey_em.dpred(m)\n",
    "    data_em_list_siginf.append(data_em) \n",
    "    data_ip_list_siginf.append(data - data_em)"
   ]
  },
  {
   "cell_type": "code",
   "execution_count": null,
   "metadata": {},
   "outputs": [],
   "source": [
    "fig = plt.figure(figsize = (12, 4))\n",
    "ax = plt.subplot(121)\n",
    "ax1 = plt.subplot(122)\n",
    "legends = [(\"$\\sigma_{half}$=%.e S/m\")%(sig_1) for sig_1 in sig_1s]\n",
    "ms = 1e3\n",
    "colors = [\"k\", \"b\", \"r\", \"g\", 'y', 'purple', 'grey']\n",
    "for i in range(len(sig_1s)):\n",
    "    data_p, data_n = get_dobs_pn(data_list_siginf[i].flatten()/moment)\n",
    "    ax.loglog(rx_emip.times*ms, data_n, linestyle='-', color=colors[i], lw=2)\n",
    "\n",
    "for i in range(len(sig_1s)):\n",
    "    data_p, data_n = get_dobs_pn(data_list_siginf[i].flatten()/moment)\n",
    "    ax.loglog(rx_emip.times*ms, data_p, linestyle='--', color=colors[i], lw=2)\n",
    "for i in range(len(sig_1s)):\n",
    "    ax1.loglog(rx_emip.times*ms, abs(data_ip_list_siginf[i].flatten()/data_em_list_siginf[i].flatten()), linestyle='-', color=colors[i], lw=2)\n",
    "ax1.legend(legends, fontsize=13.5)    \n",
    "\n",
    "for ax_temp in [ax, ax1]:\n",
    "    ax_temp.set_xlabel(\"Time (ms)\")        \n",
    "    ax_temp.set_xlim(2e-5*ms, 0.01*ms)\n",
    "    ax_temp.grid()\n",
    "ax.set_ylabel(\"Voltage (pV/A-m$^4$)\")    \n",
    "ax.set_ylim(1e-4, 1e5)\n",
    "ax1.set_ylim(1e-1, 1e2)\n",
    "ax1.set_ylabel('Ratio')\n",
    "ax.set_title(\"(a) Voltage (variable $\\sigma_{half}$)\")\n",
    "ax1.set_title(\"(b) Ratio\")\n",
    "ax.text(0.3, 1e3, \"Fixed $\\sigma_{\\infty}/\\sigma_{half}$=10\")\n",
    "plt.tight_layout()    \n",
    "\n",
    "# fig.savefig(figdir+\"data_background_2\", dpi=300)"
   ]
  }
 ],
 "metadata": {
  "anaconda-cloud": {},
  "kernelspec": {
   "display_name": "Python 3",
   "language": "python",
   "name": "python3"
  },
  "language_info": {
   "codemirror_mode": {
    "name": "ipython",
    "version": 3
   },
   "file_extension": ".py",
   "mimetype": "text/x-python",
   "name": "python",
   "nbconvert_exporter": "python",
   "pygments_lexer": "ipython3",
   "version": "3.6.5"
  }
 },
 "nbformat": 4,
 "nbformat_minor": 2
}
