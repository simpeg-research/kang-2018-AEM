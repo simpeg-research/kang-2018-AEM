{
 "cells": [
  {
   "cell_type": "markdown",
   "metadata": {},
   "source": [
    "# Can there be four times of sign reversals in AEM data?\n",
    "\n",
    "**Author**: [Seogi Kang](https://github.com/sgkang)\n",
    "\n",
    "This notebook was prompted to explain the observation of AEM data, which showed four times of sign reversals (by Burke Minsely at AEM workshop 2018). "
   ]
  },
  {
   "cell_type": "code",
   "execution_count": 1,
   "metadata": {},
   "outputs": [],
   "source": [
    "from SimPEG import *\n",
    "from SimPEG import EM\n",
    "from scipy.constants import mu_0\n",
    "import numpy as np\n",
    "import scipy.sparse as sp\n",
    "from simpegEMIP.StretchedExponential import SEInvImpulseProblem, SESurvey\n",
    "import matplotlib.pyplot as plt\n",
    "from pymatsolver import PardisoSolver\n",
    "import matplotlib.patches as mpatches\n",
    "from matplotlib.collections import PatchCollection\n",
    "def rect2D(p1, p2):    \n",
    "    xy = np.c_[np.r_[p1[0], p2[0], p2[0], p1[0], p1[0]], np.r_[p1[1], p1[1], p2[1], p2[1], p1[1]]]\n",
    "    return xy\n",
    "%matplotlib inline"
   ]
  },
  {
   "cell_type": "code",
   "execution_count": 2,
   "metadata": {},
   "outputs": [],
   "source": [
    "import matplotlib \n",
    "matplotlib.rcParams[\"font.size\"] = 14\n",
    "figdir = \"../figures/\""
   ]
  },
  {
   "cell_type": "markdown",
   "metadata": {},
   "source": [
    "## Step1: Generate 2D Cylindrical Mesh"
   ]
  },
  {
   "cell_type": "code",
   "execution_count": 3,
   "metadata": {},
   "outputs": [],
   "source": [
    "cs, ncx, ncz, npad = 10., 40, 40, 25\n",
    "hx = [(cs,ncx), (cs,npad,1.3)]\n",
    "hz = [(cs,npad,-1.3), (cs,ncz), (cs,npad,1.3)]\n",
    "mesh = Mesh.CylMesh([hx,1,hz], '00C')    "
   ]
  },
  {
   "cell_type": "markdown",
   "metadata": {},
   "source": [
    "## Step2: Generate conductivity and chargeability model"
   ]
  },
  {
   "cell_type": "code",
   "execution_count": 4,
   "metadata": {},
   "outputs": [],
   "source": [
    "layer_ind = (mesh.gridCC[:,2]<0)&(mesh.gridCC[:,2]>-10)\n",
    "\n",
    "sig_1 = 0.001\n",
    "sig_2 = 0.01\n",
    "sigmaInf = np.ones(mesh.nC) * sig_1\n",
    "sigmaInf[layer_ind] = 0.001\n",
    "airind = mesh.gridCC[:,2]>0.\n",
    "z = 0.\n",
    "radius = 200.\n",
    "z_top = -150\n",
    "z_bottom = -200\n",
    "blkind  = np.logical_and(mesh.gridCC[:,0]<radius, (mesh.gridCC[:,2]<z_top)&(mesh.gridCC[:,2]>z_bottom))\n",
    "sigmaInf[airind] = 1e-8\n",
    "sigmaInf[blkind] = sig_2\n",
    "eta_se, tau_se, c_se = 0.2, 0.02, 0.7\n",
    "eta = np.zeros(mesh.nC)\n",
    "eta[blkind] = eta_se\n",
    "eta[layer_ind] = 0.9\n",
    "tau = np.ones(mesh.nC) * tau_se\n",
    "c = np.ones(mesh.nC) * c_se\n",
    "tau[layer_ind] = 0.0004\n",
    "c[layer_ind] = 0.7"
   ]
  },
  {
   "cell_type": "markdown",
   "metadata": {},
   "source": [
    "## Step3: Generate `Problem` and `Survey`"
   ]
  },
  {
   "cell_type": "code",
   "execution_count": 5,
   "metadata": {},
   "outputs": [],
   "source": [
    "from simpegEMIP.TDEM import Problem3D_e, Problem3DEM_e, Rx, Survey"
   ]
  },
  {
   "cell_type": "code",
   "execution_count": 6,
   "metadata": {},
   "outputs": [
    {
     "name": "stderr",
     "output_type": "stream",
     "text": [
      "/Users/sgkang/Projects/simpeg/SimPEG/Props.py:400: UserWarning: Cannot add model as there are no active mappings, choose from: ['cMap', 'etaMap', 'rhoMap', 'sigmaInfMap', 'sigmaMap', 'tauMap']\n",
      "  \"', '\".join(self._all_map_names)\n"
     ]
    }
   ],
   "source": [
    "rxloc = np.array([[0., 0., 30.]])\n",
    "srcloc = np.array([[0., 0., 30.]])\n",
    "\n",
    "rx_emip = Rx.Point_dbdt(rxloc, np.logspace(np.log10(1e-5), np.log10(0.5), 51), 'z')\n",
    "src_emip = EM.TDEM.Src.CircularLoop([rx_emip], waveform=EM.TDEM.Src.StepOffWaveform(), loc=srcloc, radius = 13.)\n",
    "survey_emip = Survey([src_emip])\n",
    "prb_emip = Problem3D_e(mesh, sigmaInf=sigmaInf, eta=eta, tau=tau, c=c)\n",
    "prb_emip.timeSteps = [(1e-06, 5), (2.5e-06, 5), (5e-06, 5), (1e-05, 5), (2e-05, 5), (4e-05, 5), (8e-05, 5), (1.6e-04, 5), (4e-04, 5), (8e-04, 5), (1e-03, 5), (2e-03, 5), (4e-03, 5), (8e-03, 5), (1e-02, 5), (2e-02, 5), (4e-02, 5), (8e-02, 5), (1e-01, 5)]\n",
    "prb_emip.Solver = PardisoSolver\n",
    "prb_emip.pair(survey_emip)\n",
    "m = np.r_[sigmaInf, eta, tau, c]\n",
    "F = prb_emip.fields(m)\n",
    "data = survey_emip.dpred(m, f=F)"
   ]
  },
  {
   "cell_type": "code",
   "execution_count": 7,
   "metadata": {},
   "outputs": [
    {
     "data": {
      "image/png": "[encoded data removed]",
      "text/plain": [
       "<Figure size 432x288 with 1 Axes>"
      ]
     },
     "metadata": {
      "needs_background": "light"
     },
     "output_type": "display_data"
    }
   ],
   "source": [
    "from simpegEMIP.TDEM.Utils import get_dobs_pn\n",
    "moment = np.pi*src_emip.radius**2 / 1e12\n",
    "rectpts = rect2D([0.2, 1e-14/moment],[3., 1e-6/moment])\n",
    "fig, ax = plt.subplots(1,1, figsize = (6, 4))\n",
    "ms = 1e3\n",
    "data_p, data_n = get_dobs_pn(data.flatten()/moment)\n",
    "ax.loglog(rx_emip.times*ms, data_n, 'k-', lw=2)\n",
    "ax.loglog(rx_emip.times*ms, data_p, 'k--', lw=2)\n",
    "ax.set_xlabel(\"Time (ms)\")    \n",
    "ax.set_xlim(rx_emip.times.min()*ms, rx_emip.times.max()*ms)\n",
    "ax.grid(True)\n",
    "# ax.set_ylim(1e-8, 1e3)\n",
    "ax.set_ylabel(\"Voltage (pV/A-m$^2$)\")\n",
    "plt.tight_layout()"
   ]
  },
  {
   "cell_type": "code",
   "execution_count": 8,
   "metadata": {},
   "outputs": [
    {
     "name": "stderr",
     "output_type": "stream",
     "text": [
      "/Users/sgkang/Projects/simpeg/SimPEG/Props.py:400: UserWarning: Cannot add model as there are no active mappings, choose from: ['rhoMap', 'sigmaMap']\n",
      "  \"', '\".join(self._all_map_names)\n"
     ]
    }
   ],
   "source": [
    "rx_em = Rx.Point_dbdt(rxloc, np.logspace(np.log10(1e-5), np.log10(0.5), 51), 'z')\n",
    "src_em = EM.TDEM.Src.CircularLoop([rx_em], waveform=EM.TDEM.Src.StepOffWaveform(), loc=srcloc, radius = 13.)\n",
    "survey_em = Survey([src_em])\n",
    "prb_em = Problem3DEM_e(mesh, sigma=sigmaInf)\n",
    "prb_em.timeSteps = [(1e-06, 5), (2.5e-06, 5), (5e-06, 5), (1e-05, 5), (2e-05, 5), (4e-05, 5), (8e-05, 5), (1.6e-04, 5), (4e-04, 5), (8e-04, 5), (1e-03, 5), (2e-03, 5), (4e-03, 5), (8e-03, 5), (1e-02, 5), (2e-02, 5), (4e-02, 5), (8e-02, 5), (1e-01, 5)]\n",
    "prb_em.Solver = PardisoSolver\n",
    "prb_em.pair(survey_em)\n",
    "m = np.r_[sigmaInf, eta, tau, c]\n",
    "F_em = prb_em.fields(m)\n",
    "data_em = survey_em.dpred(m, f=F_em)\n",
    "data_ip = data - data_em"
   ]
  },
  {
   "cell_type": "code",
   "execution_count": 9,
   "metadata": {},
   "outputs": [
    {
     "data": {
      "image/png": "[encoded data removed]",
      "text/plain": [
       "<Figure size 432x288 with 1 Axes>"
      ]
     },
     "metadata": {
      "needs_background": "light"
     },
     "output_type": "display_data"
    }
   ],
   "source": [
    "from simpegEMIP.TDEM.Utils import get_dobs_pn\n",
    "moment = np.pi*src_emip.radius**2 / 1e12\n",
    "rectpts = rect2D([0.2, 1e-14/moment],[3., 1e-6/moment])\n",
    "fig, ax = plt.subplots(1,1, figsize = (6, 4))\n",
    "ms = 1e3\n",
    "data_p, data_n = get_dobs_pn(data.flatten()/moment)\n",
    "data_ip_p, data_ip_n = get_dobs_pn(data_ip.flatten()/moment)\n",
    "ax.loglog(rx_emip.times*ms, data_n, 'k-', lw=2)\n",
    "ax.loglog(rx_emip.times*ms, data_p, 'k--', lw=2)\n",
    "ax.loglog(rx_emip.times*ms, -data_em.flatten()/moment, 'b-', lw=1)\n",
    "ax.legend((\"d$^{obs}$ (+)\", \"d$^{obs}$ (-)\", \"d$^{\\ F}$ (+)\",\"d$^{IP}$ (+)\", \"d$^{IP}$ (-)\"), fontsize = 13, loc=3)\n",
    "ax.set_xlabel(\"Time (ms)\")    \n",
    "ax.set_xlim(rx_emip.times.min()*ms, rx_emip.times.max()*ms)\n",
    "ax.grid(True)\n",
    "ax.set_ylim(1e-8, 1e3)\n",
    "ax.set_ylabel(\"Voltage (pV/A-m$^2$)\")\n",
    "plt.tight_layout()\n",
    "# fig.savefig(figdir+\"data\", dpi=300)"
   ]
  }
 ],
 "metadata": {
  "anaconda-cloud": {},
  "kernelspec": {
   "display_name": "Python 3",
   "language": "python",
   "name": "python3"
  },
  "language_info": {
   "codemirror_mode": {
    "name": "ipython",
    "version": 3
   },
   "file_extension": ".py",
   "mimetype": "text/x-python",
   "name": "python",
   "nbconvert_exporter": "python",
   "pygments_lexer": "ipython3",
   "version": "3.7.3"
  }
 },
 "nbformat": 4,
 "nbformat_minor": 2
}
